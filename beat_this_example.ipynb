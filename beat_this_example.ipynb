{
  "nbformat": 4,
  "nbformat_minor": 0,
  "metadata": {
    "colab": {
      "provenance": [],
      "include_colab_link": true
    },
    "kernelspec": {
      "name": "python3",
      "display_name": "Python 3"
    },
    "language_info": {
      "name": "python"
    }
  },
  "cells": [
    {
      "cell_type": "markdown",
      "metadata": {
        "id": "view-in-github",
        "colab_type": "text"
      },
      "source": [
        "<a href=\"https://colab.research.google.com/github/logesh2496/BloodDonationFrontend/blob/main/beat_this_example.ipynb\" target=\"_parent\"><img src=\"https://colab.research.google.com/assets/colab-badge.svg\" alt=\"Open In Colab\"/></a>"
      ]
    },
    {
      "cell_type": "markdown",
      "source": [
        "# Beat This! inference example\n",
        "\n",
        "We first need to install and load the package."
      ],
      "metadata": {
        "id": "87X_GXfoGwmj"
      }
    },
    {
      "cell_type": "code",
      "execution_count": 1,
      "metadata": {
        "id": "sxhsMCKdLOLO",
        "collapsed": true,
        "outputId": "b0db2780-c2e9-4bec-e8fd-372640a1751b",
        "colab": {
          "base_uri": "https://localhost:8080/"
        }
      },
      "outputs": [
        {
          "output_type": "stream",
          "name": "stdout",
          "text": [
            "Collecting https://github.com/CPJKU/beat_this/archive/main.zip\n",
            "  Downloading https://github.com/CPJKU/beat_this/archive/main.zip\n",
            "\u001b[2K     \u001b[32m-\u001b[0m \u001b[32m5.0 MB\u001b[0m \u001b[31m15.5 MB/s\u001b[0m \u001b[33m0:00:00\u001b[0m\n",
            "\u001b[?25h  Preparing metadata (setup.py) ... \u001b[?25l\u001b[?25hdone\n",
            "Requirement already satisfied: numpy in /usr/local/lib/python3.10/dist-packages (from beat-this==0.1) (1.26.4)\n",
            "Requirement already satisfied: torch>=2 in /usr/local/lib/python3.10/dist-packages (from beat-this==0.1) (2.5.1+cu121)\n",
            "Requirement already satisfied: torchaudio in /usr/local/lib/python3.10/dist-packages (from beat-this==0.1) (2.5.1+cu121)\n",
            "Requirement already satisfied: einops in /usr/local/lib/python3.10/dist-packages (from beat-this==0.1) (0.8.0)\n",
            "Collecting rotary-embedding-torch (from beat-this==0.1)\n",
            "  Downloading rotary_embedding_torch-0.8.6-py3-none-any.whl.metadata (675 bytes)\n",
            "Requirement already satisfied: soxr in /usr/local/lib/python3.10/dist-packages (from beat-this==0.1) (0.5.0.post1)\n",
            "Requirement already satisfied: filelock in /usr/local/lib/python3.10/dist-packages (from torch>=2->beat-this==0.1) (3.16.1)\n",
            "Requirement already satisfied: typing-extensions>=4.8.0 in /usr/local/lib/python3.10/dist-packages (from torch>=2->beat-this==0.1) (4.12.2)\n",
            "Requirement already satisfied: networkx in /usr/local/lib/python3.10/dist-packages (from torch>=2->beat-this==0.1) (3.4.2)\n",
            "Requirement already satisfied: jinja2 in /usr/local/lib/python3.10/dist-packages (from torch>=2->beat-this==0.1) (3.1.4)\n",
            "Requirement already satisfied: fsspec in /usr/local/lib/python3.10/dist-packages (from torch>=2->beat-this==0.1) (2024.10.0)\n",
            "Requirement already satisfied: sympy==1.13.1 in /usr/local/lib/python3.10/dist-packages (from torch>=2->beat-this==0.1) (1.13.1)\n",
            "Requirement already satisfied: mpmath<1.4,>=1.1.0 in /usr/local/lib/python3.10/dist-packages (from sympy==1.13.1->torch>=2->beat-this==0.1) (1.3.0)\n",
            "Requirement already satisfied: MarkupSafe>=2.0 in /usr/local/lib/python3.10/dist-packages (from jinja2->torch>=2->beat-this==0.1) (3.0.2)\n",
            "Downloading rotary_embedding_torch-0.8.6-py3-none-any.whl (5.6 kB)\n",
            "Building wheels for collected packages: beat-this\n",
            "  Building wheel for beat-this (setup.py) ... \u001b[?25l\u001b[?25hdone\n",
            "  Created wheel for beat-this: filename=beat_this-0.1-py3-none-any.whl size=39173 sha256=318347c3e6c8b0c0751372e1601c4f4ce5185524558303a7f0d5387c8606d3c7\n",
            "  Stored in directory: /tmp/pip-ephem-wheel-cache-luz8ttnq/wheels/2d/f2/55/6ebff81aee356f4ba2c2a7c8091af92024a9141435b12e557a\n",
            "Successfully built beat-this\n",
            "Installing collected packages: rotary-embedding-torch, beat-this\n",
            "Successfully installed beat-this-0.1 rotary-embedding-torch-0.8.6\n"
          ]
        }
      ],
      "source": [
        "# install the beat_this package\n",
        "!pip install https://github.com/CPJKU/beat_this/archive/main.zip\n",
        "\n",
        "# load the Python class for beat tracking\n",
        "from beat_this.inference import File2Beats\n",
        "from beat_this.inference import File2File"
      ]
    },
    {
      "cell_type": "markdown",
      "source": [
        "## Run on demo file\n",
        "\n",
        "Now that all the dependencies have been installed and imported, let's run our system.\n",
        "\n",
        "In the next cell we:\n",
        "- define the audio file we want to use as input. For now we use the example provided in the beat_this repo, but this can be changed (see instructions later);\n",
        "- load the File2Beats class that produce a list of beats and downbeats given an audio file;\n",
        "- apply the class to the audio file\n",
        "- print the position in seconds of the first 20 beats and first 20 downbeats.\n"
      ],
      "metadata": {
        "id": "_0oYbH6P6Ji7"
      }
    },
    {
      "cell_type": "code",
      "source": [
        "# !wget -c \"https://github.com/CPJKU/beat_this/raw/main/tests/It%20Don't%20Mean%20A%20Thing%20-%20Kings%20of%20Swing.mp3\"\n",
        "audio_path = \"/content/audio.mp3\"\n",
        "\n",
        "file2beats = File2Beats(checkpoint_path=\"final0\", dbn=False)\n",
        "beats, downbeats = file2beats(audio_path)\n",
        "\n",
        "print(\"First 20 beats\", beats[:20])\n",
        "print(\"First 20 downbeats\", downbeats[:20])"
      ],
      "metadata": {
        "id": "DHT6v-a-TbZx",
        "outputId": "88f3a78d-17be-4ccd-c691-ce2aef9ba0bc",
        "colab": {
          "base_uri": "https://localhost:8080/"
        }
      },
      "execution_count": 2,
      "outputs": [
        {
          "output_type": "stream",
          "name": "stderr",
          "text": [
            "/usr/local/lib/python3.10/dist-packages/beat_this/inference.py:29: FutureWarning: You are using `torch.load` with `weights_only=False` (the current default value), which uses the default pickle module implicitly. It is possible to construct malicious pickle data which will execute arbitrary code during unpickling (See https://github.com/pytorch/pytorch/blob/main/SECURITY.md#untrusted-models for more details). In a future release, the default value for `weights_only` will be flipped to `True`. This limits the functions that could be executed during unpickling. Arbitrary objects will no longer be allowed to be loaded via this mode unless they are explicitly allowlisted by the user via `torch.serialization.add_safe_globals`. We recommend you start setting `weights_only=True` for any use case where you don't have full control of the loaded file. Please open an issue on GitHub for any issues related to this experimental feature.\n",
            "  return torch.load(checkpoint_path, map_location=device)\n",
            "Downloading: \"https://cloud.cp.jku.at/index.php/s/7ik4RrBKTS273gp/download?path=%2F&files=final0.ckpt\" to /root/.cache/torch/hub/checkpoints/beat_this-final0.ckpt\n",
            "100%|██████████| 77.3M/77.3M [00:39<00:00, 2.04MB/s]\n"
          ]
        },
        {
          "output_type": "stream",
          "name": "stdout",
          "text": [
            "First 20 beats [ 0.64  1.44  2.22  2.96  3.74  4.48  5.24  6.    6.72  7.46  8.22  8.92\n",
            "  9.64 10.38 11.16 11.92 12.7  13.42 14.18 14.94]\n",
            "First 20 downbeats [ 2.22  5.24  8.22 11.16 14.18 17.2  20.16 23.2  26.18 29.18 32.18 35.16\n",
            " 38.14 41.18 44.18 47.16 50.16 53.16 56.42 59.58]\n"
          ]
        }
      ]
    },
    {
      "cell_type": "code",
      "source": [],
      "metadata": {
        "id": "hUstCwo67HeO"
      },
      "execution_count": null,
      "outputs": []
    },
    {
      "cell_type": "code",
      "source": [
        "import json\n",
        "\n",
        "with open('beats.json', 'w') as f:\n",
        "  json.dump(beats.tolist(), f)\n"
      ],
      "metadata": {
        "id": "Z5q-UAc152fX"
      },
      "execution_count": 4,
      "outputs": []
    },
    {
      "cell_type": "markdown",
      "source": [
        "We can sonify the beats and downbeats as click on top of the audio file."
      ],
      "metadata": {
        "id": "lRjJFiexDGdn"
      }
    },
    {
      "cell_type": "code",
      "source": [
        "import IPython.display as ipd\n",
        "import librosa\n",
        "import numpy as np\n",
        "import soundfile as sf\n",
        "\n",
        "audio, sr = sf.read(audio_path)\n",
        "# make it mono if stereo\n",
        "if len(audio.shape) > 1:\n",
        "  audio = np.mean(audio, axis=1)\n",
        "\n",
        "# sonify the beats and downbeats\n",
        "# remove the beats that are also downbeats for a nicer sonification\n",
        "beats = [b for b in beats if b not in downbeats]\n",
        "audio_beat = librosa.clicks(times = beats, sr=sr, click_freq=1000, length=len(audio))\n",
        "audio_downbeat = librosa.clicks(times = downbeats, sr=sr, click_freq=1500, length=len(audio))\n",
        "\n",
        "ipd.display(ipd.Audio(audio + audio_beat + audio_downbeat, rate=sr))"
      ],
      "metadata": {
        "id": "otG0NS_uCXSo"
      },
      "execution_count": null,
      "outputs": []
    },
    {
      "cell_type": "markdown",
      "source": [
        "## Run on your own file\n",
        "\n",
        "If you want to run on your own audio files follow the following instructions:\n",
        "1. Click on the folder icon in the left vertical menu.\n",
        "2. Click on the \"Upload to session storage\" icon with the upward pointing arrow.\n",
        "\n",
        "    This will add an audio file to the current colab runtime (it could take some time, and you may need to refresh the file manager using the dedicated button to see the new file). You can copy the audio path by clicking on the three dots next to the file, then \"copy path\".\n",
        "\n",
        "    For example, if you upload a file called `my_song.mp3`, the path will be `/content/my_song.mp3`.\n",
        "\n",
        "3. change the `audio_path` in the cell above with the path of your uploaded audio"
      ],
      "metadata": {
        "id": "hn83Sn1pWmt5"
      }
    },
    {
      "cell_type": "markdown",
      "source": [
        "You can also produce a list of beat and downbeat as tsv file, that you can download and import in Sonic Visualizer.\n",
        "\n",
        "To do this this, use the File2File function as below:"
      ],
      "metadata": {
        "id": "kP2gyplIEcWT"
      }
    },
    {
      "cell_type": "code",
      "source": [
        "file2file = File2File(checkpoint_path=\"final0\", dbn=False)\n",
        "file2file(audio_path,output_path=\"output.beats\")"
      ],
      "metadata": {
        "id": "kTQK-d4JEbL7"
      },
      "execution_count": null,
      "outputs": []
    },
    {
      "cell_type": "markdown",
      "source": [
        "As you can see, the system is fast enough to work in a reasonable time even on CPU.\n",
        "\n",
        "For even faster inference, you can start a GPU session in Colab!"
      ],
      "metadata": {
        "id": "1Y1d-DvXFtVz"
      }
    },
    {
      "cell_type": "markdown",
      "source": [
        "## Batch processing multiple files\n",
        "\n",
        "To process multiple of your own audio files, upload them as described above, then run the `beat_this` command line tool:"
      ],
      "metadata": {
        "id": "vpoM0RvQdAMF"
      }
    },
    {
      "cell_type": "code",
      "source": [
        "!beat_this --model final0 /content/"
      ],
      "metadata": {
        "id": "qNOLbBplc_Nq"
      },
      "execution_count": null,
      "outputs": []
    },
    {
      "cell_type": "markdown",
      "source": [
        "It will produce a `.beats` file for every audio file that you can download again."
      ],
      "metadata": {
        "id": "_xNY_9DEdSEt"
      }
    }
  ]
}